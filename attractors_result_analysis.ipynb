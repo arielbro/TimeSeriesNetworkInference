{
 "cells": [
  {
   "cell_type": "code",
   "execution_count": 1,
   "metadata": {
    "collapsed": true
   },
   "outputs": [],
   "source": [
    "%matplotlib inline\n",
    "\n",
    "import os, sys\n",
    "import pandas as pd\n",
    "import numpy as np\n",
    "from matplotlib import pyplot as plt\n",
    "\n",
    "def load_data(res_dir):\n",
    "    data = pd.DataFrame()\n",
    "    for filename in os.listdir(res_dir):\n",
    "        if \".csv\" in filename:\n",
    "            data = pd.concat([data, pd.read_csv(os.path.join(res_dir, filename))])\n",
    "    return data\n",
    "\n",
    "def extract_mean_scores_data(list_data):\n",
    "    res_data = list_data.copy()\n",
    "    score_cols = [col for col in res_data.columns if \"scores\" in col]\n",
    "    res_data[score_cols] = res_data[score_cols].apply(lambda col: col.apply(\n",
    "        lambda val_list: np.nanmean(eval(str(val_list).replace(\"nan\", \"np.nan\")))), axis=1)\n",
    "    return res_data\n",
    "    \n",
    "def extract_vertex_scores_data(list_data):\n",
    "    res_data = []\n",
    "    score_cols = [col for col in list_data.columns if \"scores\" in col]\n",
    "    non_score_cols = [col for col in list_data if col not in score_cols]\n",
    "    for index, row in list_data.iterrows():\n",
    "        val_lists = [eval(str(val_list).\n",
    "                          replace(\"nan\", \"np.nan\")) for val_list in row[score_cols]]\n",
    "        for vals in zip(*val_lists):\n",
    "            if not np.isnan(vals[0]):\n",
    "                res_data.append(list(row[non_score_cols]) + list(vals))\n",
    "    res_data = pd.DataFrame(res_data)\n",
    "    res_data.columns = non_score_cols + score_cols\n",
    "    return res_data"
   ]
  },
  {
   "cell_type": "code",
   "execution_count": 2,
   "metadata": {},
   "outputs": [],
   "source": [
    "data = load_data(\"results/29_10\")\n",
    "mean_data = extract_mean_scores_data(data)\n",
    "vertex_data = extract_vertex_scores_data(data)"
   ]
  },
  {
   "cell_type": "code",
   "execution_count": 3,
   "metadata": {},
   "outputs": [],
   "source": [
    "import graphs"
   ]
  },
  {
   "cell_type": "code",
   "execution_count": 10,
   "metadata": {},
   "outputs": [
    {
     "name": "stdout",
     "output_type": "stream",
     "text": [
      "#0; 2 input nodes for graph Apoptosis Network of size 41 and max degree 4\n",
      "#1; 0 input nodes for graph Arabidopsis thaliana Cell Cycle of size 14 and max degree 8\n",
      "#2; 4 input nodes for graph Aurora Kinase A in Neuroblastoma of size 23 and max degree 7\n",
      "#3; 1 input nodes for graph B bronchiseptica and T retortaeformis coinfection of size 53 and max degree 8\n",
      "#4; 5 input nodes for graph B cell differentiation of size 22 and max degree 7\n",
      "#5; 3 input nodes for graph Body Segmentation in Drosophila 2013 of size 17 and max degree 4\n",
      "#6; 0 input nodes for graph Bordetella bronchiseptica of size 33 and max degree 6\n",
      "#7; 5 input nodes for graph Bortezomib Responses in U266 Human Myeloma Cells of size 67 and max degree 5\n",
      "#8; 4 input nodes for graph BT474 Breast Cell Line Long-term ErbB Network of size 25 and max degree 6\n",
      "#9; 5 input nodes for graph BT474 Breast Cell Line Short-term ErbB Network of size 16 and max degree 6\n",
      "#10; 4 input nodes for graph Budding Yeast Cell Cycle of size 20 and max degree 6\n",
      "#11; 0 input nodes for graph Budding Yeast Cell Cycle 2009 of size 18 and max degree 6\n",
      "#12; 1 input nodes for graph Cardiac development of size 15 and max degree 7\n",
      "#13; 34 input nodes for graph CD4 T cell signaling of size 188 and max degree 10\n",
      "#14; 9 input nodes for graph CD4+ T cell Differentiation of size 38 and max degree 8\n",
      "#15; 0 input nodes for graph Cell Cycle Transcription by Coupled CDK and Network Oscillators of size 9 and max degree 4\n",
      "#16; 0 input nodes for graph Cholesterol Regulatory Pathway of size 34 and max degree 3\n",
      "#17; 1 input nodes for graph Colitis-associated colon cancer of size 70 and max degree 5\n",
      "#18; 0 input nodes for graph Cortical Area Development of size 5 and max degree 4\n",
      "#19; 3 input nodes for graph Death Receptor Signaling of size 28 and max degree 4\n",
      "#20; 9 input nodes for graph Differentiation of T lymphocytes of size 50 and max degree 9\n",
      "#21; 29 input nodes for graph EGFR & ErbB Signaling of size 104 and max degree 12\n",
      "#22; 0 input nodes for graph FA BRCA pathway of size 28 and max degree 9\n",
      "#23; 0 input nodes for graph Fanconi anemia and checkpoint recovery of size 15 and max degree 8\n",
      "#24; 9 input nodes for graph FGF pathway of Drosophila Signalling Pathways of size 23 and max degree 4\n",
      "#25; 18 input nodes for graph Glucose Repression Signaling 2009 of size 73 and max degree 5\n",
      "#26; 4 input nodes for graph Guard Cell Abscisic Acid Signaling of size 44 and max degree 5\n",
      "#27; 4 input nodes for graph HCC1954 Breast Cell Line Long-term ErbB Network of size 25 and max degree 6\n",
      "#28; 5 input nodes for graph HCC1954 Breast Cell Line Short-term ErbB Network of size 16 and max degree 6\n",
      "#29; 6 input nodes for graph HGF Signaling in Keratinocytes of size 68 and max degree 4\n",
      "#30; 13 input nodes for graph HH Pathway of Drosophila Signaling Pathways of size 24 and max degree 8\n",
      "#31; 15 input nodes for graph HIV-1 interactions with T-Cell Signalling Pathway of size 138 and max degree 10\n",
      "#32; 0 input nodes for graph Human Gonadal Sex Determination of size 19 and max degree 10\n",
      "#33; 0 input nodes for graph IGVH mutations in chronic lymphocytic leukemia of size 91 and max degree 12\n",
      "#34; 14 input nodes for graph IL-1 Signaling of size 118 and max degree 6\n",
      "#35; 15 input nodes for graph IL-6 Signalling of size 86 and max degree 6\n",
      "#36; 11 input nodes for graph Influenza A Virus Replication Cycle of size 131 and max degree 11\n",
      "#37; 2 input nodes for graph Iron acquisition and oxidative stress response in aspergillus fumigatus of size 22 and max degree 6\n",
      "#38; 3 input nodes for graph Lac Operon of size 13 and max degree 4\n",
      "#39; 2 input nodes for graph Lymphoid and myeloid cell specification and transdifferentiation of size 33 and max degree 10\n",
      "#40; 14 input nodes for graph Lymphopoiesis Regulatory Network of size 81 and max degree 9\n",
      "#41; 1 input nodes for graph Mammalian Cell Cycle of size 20 and max degree 5\n",
      "#42; 0 input nodes for graph Mammalian Cell Cycle 2006 of size 10 and max degree 6\n",
      "#43; 4 input nodes for graph MAPK Cancer Cell Fate Network of size 53 and max degree 5\n",
      "#44; 1 input nodes for graph Metabolic Interactions in the Gut Microbiome of size 12 and max degree 5\n",
      "#45; 0 input nodes for graph Neurotransmitter Signaling Pathway of size 16 and max degree 3\n",
      "#46; 1 input nodes for graph Oxidative Stress Pathway of size 19 and max degree 4\n",
      "#47; 1 input nodes for graph PC12 Cell Differentiation of size 62 and max degree 4\n",
      "#48; 1 input nodes for graph Predicting Variabilities in Cardiac Gene of size 15 and max degree 7\n",
      "#49; 0 input nodes for graph Pro-inflammatory Tumor Microenvironment in Acute Lymphoblastic Leukemia of size 26 and max degree 9\n",
      "#50; 6 input nodes for graph Processing of Spz Network from the Drosophila Signaling Pathway of size 24 and max degree 5\n",
      "#51; 4 input nodes for graph Regulation of the L-arabinose operon of Escherichia coli of size 13 and max degree 3\n",
      "#52; 2 input nodes for graph Senescence Associated Secretory Phenotype of size 51 and max degree 5\n",
      "#53; 8 input nodes for graph Septation Initiation Network of size 31 and max degree 4\n",
      "#54; 10 input nodes for graph Signal Transduction in Fibroblasts of size 139 and max degree 11\n",
      "#55; 19 input nodes for graph Signaling in Macrophage Activation of size 321 and max degree 10\n",
      "#56; 4 input nodes for graph SKBR3 Breast Cell Line Long-term ErbB Network of size 25 and max degree 7\n",
      "#57; 5 input nodes for graph SKBR3 Breast Cell Line Short-term ErbB Network of size 16 and max degree 5\n",
      "#58; 5 input nodes for graph Stomatal Opening Model of size 49 and max degree 9\n",
      "#59; 4 input nodes for graph T cell differentiation of size 23 and max degree 5\n",
      "#60; 8 input nodes for graph T Cell Receptor Signaling of size 99 and max degree 6\n",
      "#61; 3 input nodes for graph T-Cell Signaling 2006 of size 40 and max degree 5\n",
      "#62; 7 input nodes for graph T-LGL Survival Network 2008 of size 61 and max degree 7\n",
      "#63; 6 input nodes for graph T-LGL Survival Network 2011 of size 60 and max degree 7\n",
      "#64; 0 input nodes for graph T-LGL Survival Network 2011 Reduced Network of size 18 and max degree 4\n",
      "#65; 10 input nodes for graph TOL Regulatory Network of size 24 and max degree 10\n",
      "#66; 2 input nodes for graph Toll Pathway of Drosophila Signaling Pathway of size 11 and max degree 2\n",
      "#67; 14 input nodes for graph Treatment of Castration-Resistant Prostate Cancer of size 42 and max degree 5\n",
      "#68; 1 input nodes for graph Trichostrongylus retortaeformis of size 26 and max degree 5\n",
      "#69; 2 input nodes for graph Tumour Cell Invasion and Migration of size 32 and max degree 8\n",
      "#70; 8 input nodes for graph VEGF Pathway of Drosophila Signaling Pathway of size 18 and max degree 4\n",
      "#71; 14 input nodes for graph Wg Pathway of Drosophila Signalling Pathways of size 26 and max degree 7\n",
      "#72; 13 input nodes for graph Yeast Apoptosis of size 73 and max degree 12\n"
     ]
    }
   ],
   "source": [
    "biological_graphs = []\n",
    "biological_graph_names = []\n",
    "candidate_biological_graph_names = os.listdir(\"cellcollective_models\")\n",
    "for graph_dir in candidate_biological_graph_names:\n",
    "    try:\n",
    "        G = graphs.Network.parse_boolean_tables(os.path.join(\"cellcollective_models\", graph_dir))\n",
    "        biological_graphs.append(G)\n",
    "        biological_graph_names.append(graph_dir)\n",
    "    except ValueError as e:\n",
    "        if e.message.startswith(\"Model export from cellcollective failed\"):\n",
    "            print \"warning - did not load graph {}\".format(graph_dir)\n",
    "\n",
    "graph_name_to_attributes = dict()\n",
    "for i, graph, name in zip(range(len(biological_graphs)), biological_graphs, biological_graph_names):\n",
    "    n_inputs = len([v for v in graph.vertices if len(v.predecessors()) == 0])\n",
    "    max_degree = max([len(v.predecessors()) for v in graph.vertices])\n",
    "    size = len(graph.vertices)\n",
    "    mean_degree = sum([len(v.predecessors()) for v in graph.vertices]) / float(size)\n",
    "    normaliezd_n_inputs = n_inputs / float(size)\n",
    "    graph_name_to_attributes[name] = dict(n_inputs=n_inputs, max_degree=max_degree,\n",
    "                                                size=size, mean_degree=mean_degree,\n",
    "                                          normalized_n_inputs=normaliezd_n_inputs)\n",
    "    print \"#{}; {} input nodes for graph {} of size {} and max degree {}\".format(i, n_inputs, name,\n",
    "                                                                                 size, max_degree)\n"
   ]
  },
  {
   "cell_type": "code",
   "execution_count": 33,
   "metadata": {},
   "outputs": [
    {
     "name": "stdout",
     "output_type": "stream",
     "text": [
      "24 49\n"
     ]
    },
    {
     "data": {
      "image/png": "[encoded data removed]",
      "text/plain": [
       "<Figure size 432x288 with 1 Axes>"
      ]
     },
     "metadata": {
      "needs_background": "light"
     },
     "output_type": "display_data"
    },
    {
     "data": {
      "image/png": "[encoded data removed]",
      "text/plain": [
       "<Figure size 432x288 with 1 Axes>"
      ]
     },
     "metadata": {
      "needs_background": "light"
     },
     "output_type": "display_data"
    },
    {
     "data": {
      "image/png": "[encoded data removed]",
      "text/plain": [
       "<Figure size 432x288 with 1 Axes>"
      ]
     },
     "metadata": {
      "needs_background": "light"
     },
     "output_type": "display_data"
    }
   ],
   "source": [
    "good_graphs = [name for name in graph_name_to_attributes.keys() if name in data[\"graph_name\"].unique()]\n",
    "bad_graphs = [name for name in graph_name_to_attributes.keys() if name not in good_graphs]\n",
    "print len(good_graphs), len(bad_graphs)\n",
    "\n",
    "good_sizes = [graph_name_to_attributes[name]['size'] for name in good_graphs]\n",
    "bad_sizes = [graph_name_to_attributes[name]['size'] for name in bad_graphs]\n",
    "bins = np.linspace(0, 100, 100)\n",
    "plt.hist(good_sizes, alpha=0.5, bins=bins)\n",
    "plt.hist(bad_sizes, alpha=0.5, bins=bins)\n",
    "plt.show()\n",
    "\n",
    "good_edges = [graph_name_to_attributes[name]['size'] * graph_name_to_attributes[name]['mean_degree'] for name in good_graphs]\n",
    "bad_edges = [graph_name_to_attributes[name]['size'] * graph_name_to_attributes[name]['mean_degree'] for name in bad_graphs]\n",
    "bins = np.linspace(0, 100, 100)\n",
    "plt.hist(good_edges, alpha=0.5, bins=bins)\n",
    "plt.hist(bad_edges, alpha=0.5, bins=bins)\n",
    "plt.show()\n",
    "\n",
    "good_edges = [graph_name_to_attributes[name]['max_degree'] for name in good_graphs]\n",
    "bad_edges = [graph_name_to_attributes[name]['max_degree'] for name in bad_graphs]\n",
    "bins = np.linspace(0, 15, 20)\n",
    "plt.hist(good_edges, alpha=0.5, bins=bins)\n",
    "plt.hist(bad_edges, alpha=0.5, bins=bins)\n",
    "plt.show()"
   ]
  }
 ],
 "metadata": {
  "kernelspec": {
   "display_name": "Python 2",
   "language": "python",
   "name": "python2"
  },
  "language_info": {
   "codemirror_mode": {
    "name": "ipython",
    "version": 2
   },
   "file_extension": ".py",
   "mimetype": "text/x-python",
   "name": "python",
   "nbconvert_exporter": "python",
   "pygments_lexer": "ipython2",
   "version": "2.7.15"
  }
 },
 "nbformat": 4,
 "nbformat_minor": 2
}
