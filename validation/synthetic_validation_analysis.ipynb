{
 "cells": [
  {
   "cell_type": "code",
   "execution_count": 1,
   "metadata": {},
   "outputs": [],
   "source": [
    "%load_ext autoreload\n",
    "%autoreload 2"
   ]
  },
  {
   "cell_type": "code",
   "execution_count": 2,
   "metadata": {},
   "outputs": [],
   "source": [
    "from importlib import reload \n",
    "import os\n",
    "from validation import inference_scoring\n",
    "reload(inference_scoring)\n",
    "from validation.inference_scoring import model_dirs_to_edge_vectors_list, \\\n",
    "    model_dirs_to_timeseries_vectors, model_dirs_to_boolean_function_vectors, \\\n",
    "    aggregate_classification_metric, model_dirs_to_time_taken_vector\n",
    "from sklearn.metrics import accuracy_score, roc_auc_score\n",
    "from matplotlib import pyplot as plt\n",
    "import numpy as np\n",
    "import math"
   ]
  },
  {
   "cell_type": "code",
   "execution_count": 3,
   "metadata": {},
   "outputs": [],
   "source": [
    "reference_dir = os.path.join(\"..\", \"data\", \"generated\", \"20210327-170631\")"
   ]
  },
  {
   "cell_type": "code",
   "execution_count": 4,
   "metadata": {},
   "outputs": [],
   "source": [
    "inference_results_parent_dir = os.path.join(\"..\", \"inferred_models/notebook\")\n",
    "inference_variant_paths = {f.name: os.path.abspath(f.path) for \n",
    "                           f in os.scandir(inference_results_parent_dir) if \n",
    "                           f.is_dir()}"
   ]
  },
  {
   "cell_type": "code",
   "execution_count": 5,
   "metadata": {},
   "outputs": [
    {
     "name": "stdout",
     "output_type": "stream",
     "text": [
      "Warning: reference vector has only one value, 0.0\n",
      "Warning: reference vector has only one value, 0.0\n",
      "Warning: reference vector has only one value, 0.0\n",
      "Warning: reference vector has only one value, 0.0\n",
      "Warning: reference vector has only one value, 0.0\n",
      "195\n",
      "Warning: reference vector has only one value, 0.0\n",
      "Warning: reference vector has only one value, 0.0\n",
      "Warning: reference vector has only one value, 0.0\n",
      "Warning: reference vector has only one value, 0.0\n",
      "Warning: reference vector has only one value, 0.0\n",
      "195\n",
      "Warning: reference vector has only one value, 0.0\n",
      "Warning: reference vector has only one value, 0.0\n",
      "Warning: reference vector has only one value, 0.0\n",
      "Warning: reference vector has only one value, 0.0\n",
      "Warning: reference vector has only one value, 0.0\n",
      "Warning: reference vector has only one value, 0.0\n",
      "Warning: reference vector has only one value, 0.0\n",
      "193\n",
      "Warning: reference vector has only one value, 0.0\n",
      "Warning: reference vector has only one value, 0.0\n",
      "Warning: reference vector has only one value, 0.0\n",
      "Warning: reference vector has only one value, 0.0\n",
      "Warning: reference vector has only one value, 0.0\n",
      "195\n"
     ]
    }
   ],
   "source": [
    "variants = inference_variant_paths.keys()\n",
    "# four vectors per variant, since the train-test split is different in each one, so \n",
    "# the reference data needs to be split accordingly.\n",
    "variant_timeseries_vecs = {v: model_dirs_to_timeseries_vectors(reference_dir, p) \n",
    "                for v, p in inference_variant_paths.items()}\n",
    "variant_timeseries_train_scores = {\n",
    "    n: aggregate_classification_metric(vecs['ref_train'], vecs['pred_train'], accuracy_score) for \n",
    "                             n, vecs in variant_timeseries_vecs.items()}\n",
    "variant_timeseries_test_scores = {\n",
    "    n: aggregate_classification_metric(vecs['ref_test'], vecs['pred_test'], accuracy_score) for \n",
    "                             n, vecs in variant_timeseries_vecs.items()}"
   ]
  },
  {
   "cell_type": "code",
   "execution_count": 6,
   "metadata": {},
   "outputs": [],
   "source": [
    "variant_timings = {v: model_dirs_to_time_taken_vector(p) \n",
    "                for v, p in inference_variant_paths.items()}"
   ]
  },
  {
   "cell_type": "code",
   "execution_count": 7,
   "metadata": {},
   "outputs": [],
   "source": [
    "variant_edge_vecs = {v: model_dirs_to_edge_vectors_list(reference_dir, p) \n",
    "                for v, p in inference_variant_paths.items()}\n",
    "variant_edge_scores = {\n",
    "    n: aggregate_classification_metric(vecs['ref'], vecs['pred'], accuracy_score) for \n",
    "                             n, vecs in variant_edge_vecs.items()}"
   ]
  },
  {
   "cell_type": "code",
   "execution_count": 24,
   "metadata": {},
   "outputs": [
    {
     "name": "stdout",
     "output_type": "stream",
     "text": [
      "{('E2Fc', 'E2Fa'), ('MYB77', 'KRP1'), ('MYB3R1', 'MYB3R1'), ('RBR', 'CYCB1'), ('CYCA2', 'E2Fa'), ('E2Fa', 'APC'), ('RBR', 'E2Fe'), ('MYB3R1', 'SCF'), ('E2Fa', 'E2Fb'), ('CYCA2', 'KRP1'), ('E2Fa', 'E2Fa'), ('APC', 'CYCB1'), ('KRP1', 'MYB3R1'), ('E2Fa', 'RBR'), ('CYCD3', 'MYB77'), ('KRP1', 'CDKB1'), ('CYCD3', 'CYCB1'), ('APC', 'CYCA2'), ('RBR', 'APC'), ('SCF', 'KRP1'), ('CYCD3', 'E2Fe'), ('E2Fb', 'MYB77'), ('RBR', 'E2Fb'), ('SCF', 'CYCD3'), ('RBR', 'RBR'), ('E2Fc', 'CDKB1'), ('MYB3R1', 'RBR'), ('E2Fb', 'E2Fe'), ('CDKB1', 'E2Fa'), ('CYCB1', 'MYB3R1'), ('MYB77', 'CYCA2'), ('E2Fe', 'APC'), ('CYCD3', 'RBR')}\n",
      "\n",
      "{('E2Fa', 'E2Fe'), ('E2Fb', 'RBR'), ('E2Fc', 'RBR'), ('RBR', 'MYB3R1'), ('MYB77', 'E2Fa'), ('E2Fa', 'CYCA2'), ('SCF', 'CDKB1'), ('E2Fc', 'KRP1'), ('MYB3R1', 'MYB77'), ('CDKB1', 'MYB3R1'), ('MYB3R1', 'E2Fe'), ('CYCB1', 'RBR'), ('RBR', 'CYCA2'), ('APC', 'CDKB1'), ('CYCD3', 'MYB3R1'), ('SCF', 'RBR'), ('E2Fe', 'CYCB1'), ('RBR', 'E2Fa'), ('MYB77', 'SCF'), ('MYB3R1', 'E2Fb'), ('RBR', 'KRP1'), ('KRP1', 'APC'), ('RBR', 'CYCD3'), ('CYCA2', 'CYCB1'), ('APC', 'KRP1'), ('KRP1', 'E2Fa'), ('CYCD3', 'APC'), ('CYCA2', 'E2Fe'), ('E2Fa', 'MYB77'), ('E2Fa', 'CYCB1'), ('CYCD3', 'E2Fb'), ('CYCD3', 'E2Fa'), ('E2Fb', 'APC')}\n"
     ]
    }
   ],
   "source": [
    "# print(variant_edge_vecs['dummy']['ref'][0][:20])\n",
    "# print(variant_edge_vecs['dummy']['pred'][0][:20])\n",
    "from attractor_learning import graphs\n",
    "G_ref = graphs.Network.parse_cnet(\"C:\\\\Users\\\\Ariel\\\\PycharmProjects\\\\TimeSeriesNetworkInference\\\\data\\\\generated\\\\20210327-181021\\\\network_0\\\\true_network.cnet\")\n",
    "G_scaff = graphs.Network.parse_cnet(\"C:\\\\Users\\\\Ariel\\\\PycharmProjects\\\\TimeSeriesNetworkInference\\\\data\\\\generated\\\\20210327-181021\\\\network_0\\\\scaffold_network.cnet\")\n",
    "# print(len(G_ref.edges))\n",
    "# print(G_ref.edges)\n",
    "# print()\n",
    "# print(len(G_scaff.edges))\n",
    "# print(G_scaff.edges)\n",
    "x = {(e[0].name, e[1].name) for e in G_ref.edges}\n",
    "y = {(e[0].name, e[1].name) for e in G_scaff.edges}\n",
    "print(x.difference(y))\n",
    "print()\n",
    "print(y.difference(x))"
   ]
  },
  {
   "cell_type": "code",
   "execution_count": 9,
   "metadata": {},
   "outputs": [
    {
     "data": {
      "image/png": "[encoded data removed]",
      "text/plain": [
       "<Figure size 1440x720 with 4 Axes>"
      ]
     },
     "metadata": {
      "needs_background": "light"
     },
     "output_type": "display_data"
    }
   ],
   "source": [
    "metrics = {'timeseries classification score train': variant_timeseries_train_scores,\n",
    "           'timeseries classification score test': variant_timeseries_test_scores,\n",
    "           'edge classification score': variant_edge_scores,\n",
    "           'training time': variant_timings}\n",
    "\n",
    "plt.rc('figure', figsize=(20.0, 10.0))\n",
    "fig, axs = plt.subplots(2, int(math.ceil(len(metrics) / 2)))\n",
    "for idx, (title, scoring_dict) in enumerate(metrics.items()):\n",
    "    ax = axs[idx % 2, int(idx / 2)]\n",
    "    bins = np.linspace(0, 60 * 1 if 'training time' in title else 1, 10)\n",
    "    names = []\n",
    "    hist_vals = []\n",
    "    for name, scores in scoring_dict.items():\n",
    "        names.append(\"{}, mean={:.2f}\".format(name, np.mean(scores)))\n",
    "        hist_vals.append(np.clip(scores, bins[0], bins[-1]))\n",
    "    ax.hist(hist_vals, label=names, bins=bins)\n",
    "    ax.legend()\n",
    "    ax.title.set_text(title)\n",
    "plt.show()"
   ]
  },
  {
   "cell_type": "code",
   "execution_count": 80,
   "metadata": {},
   "outputs": [
    {
     "data": {
      "text/plain": [
       "1.0"
      ]
     },
     "execution_count": 80,
     "metadata": {},
     "output_type": "execute_result"
    }
   ],
   "source": []
  },
  {
   "cell_type": "code",
   "execution_count": null,
   "metadata": {},
   "outputs": [],
   "source": []
  }
 ],
 "metadata": {
  "kernelspec": {
   "display_name": "Python 3",
   "language": "python",
   "name": "python3"
  },
  "language_info": {
   "codemirror_mode": {
    "name": "ipython",
    "version": 3
   },
   "file_extension": ".py",
   "mimetype": "text/x-python",
   "name": "python",
   "nbconvert_exporter": "python",
   "pygments_lexer": "ipython3",
   "version": "3.9.0"
  }
 },
 "nbformat": 4,
 "nbformat_minor": 1
}
